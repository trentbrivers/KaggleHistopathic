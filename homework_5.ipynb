{
 "cells": [
  {
   "cell_type": "markdown",
   "id": "b4da44dd-7ebe-490e-858f-6d0f780ae1b6",
   "metadata": {},
   "source": [
    "## Trent Rivers\n",
    "\n",
    "Github link: https://github.com/trentbrivers/KaggleHistopathic\n",
    "\n",
    "#### The Problem:\n",
    "\n",
    "Cancer is a ubiquitous disease that millions are diagnosed with on a yearly basis. We can train models to assist us in accurately diagnosing cancer using images of human tissue. That is the objective of this assignment. A model needs to be capable of identifying a single pixel or more of cancer within the center 36x36 pixels of a 96x96 tiff image."
   ]
  },
  {
   "cell_type": "markdown",
   "id": "005d3c46-629c-4a2c-bfee-f25bf2120644",
   "metadata": {},
   "source": [
    "#### EDA & Analysis Plan"
   ]
  },
  {
   "cell_type": "code",
   "execution_count": 7,
   "id": "9bcc3955-72bf-46f3-b30a-5ac0fb4d948e",
   "metadata": {},
   "outputs": [],
   "source": [
    "import pandas as pd\n",
    "import matplotlib.pyplot as plt\n",
    "import seaborn as sns\n",
    "\n",
    "df = pd.read_csv(r\"E:\\Data\\histopathologic-cancer-detection\\train_labels.csv\")"
   ]
  },
  {
   "cell_type": "code",
   "execution_count": 8,
   "id": "62424e15-e0d0-451d-8a2a-c76511975890",
   "metadata": {},
   "outputs": [
    {
     "data": {
      "text/html": [
       "<div>\n",
       "<style scoped>\n",
       "    .dataframe tbody tr th:only-of-type {\n",
       "        vertical-align: middle;\n",
       "    }\n",
       "\n",
       "    .dataframe tbody tr th {\n",
       "        vertical-align: top;\n",
       "    }\n",
       "\n",
       "    .dataframe thead th {\n",
       "        text-align: right;\n",
       "    }\n",
       "</style>\n",
       "<table border=\"1\" class=\"dataframe\">\n",
       "  <thead>\n",
       "    <tr style=\"text-align: right;\">\n",
       "      <th></th>\n",
       "      <th>id</th>\n",
       "      <th>label</th>\n",
       "    </tr>\n",
       "  </thead>\n",
       "  <tbody>\n",
       "    <tr>\n",
       "      <th>0</th>\n",
       "      <td>f38a6374c348f90b587e046aac6079959adf3835</td>\n",
       "      <td>0</td>\n",
       "    </tr>\n",
       "    <tr>\n",
       "      <th>1</th>\n",
       "      <td>c18f2d887b7ae4f6742ee445113fa1aef383ed77</td>\n",
       "      <td>1</td>\n",
       "    </tr>\n",
       "    <tr>\n",
       "      <th>2</th>\n",
       "      <td>755db6279dae599ebb4d39a9123cce439965282d</td>\n",
       "      <td>0</td>\n",
       "    </tr>\n",
       "    <tr>\n",
       "      <th>3</th>\n",
       "      <td>bc3f0c64fb968ff4a8bd33af6971ecae77c75e08</td>\n",
       "      <td>0</td>\n",
       "    </tr>\n",
       "    <tr>\n",
       "      <th>4</th>\n",
       "      <td>068aba587a4950175d04c680d38943fd488d6a9d</td>\n",
       "      <td>0</td>\n",
       "    </tr>\n",
       "  </tbody>\n",
       "</table>\n",
       "</div>"
      ],
      "text/plain": [
       "                                         id  label\n",
       "0  f38a6374c348f90b587e046aac6079959adf3835      0\n",
       "1  c18f2d887b7ae4f6742ee445113fa1aef383ed77      1\n",
       "2  755db6279dae599ebb4d39a9123cce439965282d      0\n",
       "3  bc3f0c64fb968ff4a8bd33af6971ecae77c75e08      0\n",
       "4  068aba587a4950175d04c680d38943fd488d6a9d      0"
      ]
     },
     "execution_count": 8,
     "metadata": {},
     "output_type": "execute_result"
    }
   ],
   "source": [
    "df.head(5)"
   ]
  },
  {
   "cell_type": "code",
   "execution_count": 18,
   "id": "47a02537-96ee-4c13-84dd-c3f90bf5eeb3",
   "metadata": {},
   "outputs": [
    {
     "data": {
      "image/png": "[encoded data removed]",
      "text/plain": [
       "<Figure size 640x480 with 1 Axes>"
      ]
     },
     "metadata": {},
     "output_type": "display_data"
    }
   ],
   "source": [
    "sns.histplot(data = df, x='label', stat = 'count', bins = 2).set(title=\"Total count per label\")\n",
    "plt.xticks(ticks=range(0, 2))  # Adjust range as needed\n",
    "plt.show()"
   ]
  },
  {
   "cell_type": "markdown",
   "id": "16e13308-5fac-47ea-8278-f146ecc78102",
   "metadata": {},
   "source": [
    "From the above, we can tell that there are more negative samples than positives. This will be an important point to reference when considering the model accuracy. It is worth noting that there are no images present in the dataset which have labels outside of 0 and 1. That would require cleaning. "
   ]
  },
  {
   "cell_type": "markdown",
   "id": "e06754f9-a9cd-49e4-bece-e849463c9e5b",
   "metadata": {},
   "source": [
    "I've found that the ordering of the images and their labels do not match. My first step to preprocess the data is to align all of the labels with the corresponding images. This will become important when it comes to training. In doing this, I've found that there are no images which lack labels. If this occurred, that would require additional data cleaning. "
   ]
  },
  {
   "cell_type": "markdown",
   "id": "d2fec32e-4390-4398-9982-b2b6c3f33a16",
   "metadata": {},
   "source": [
    "#### Architecture\n",
    "\n",
    "I'm going to use a Keras Sequential model for this binary classification task. This is going to be a Convolution neural network because we're working with 2D images here, and convolution networks are more suited towards working with this kind of data. Since this will be a convolution model, the first layer of my sequential model will be a Conv2D layer, to process the input images before passing to the Dense network layers that follow. After the first convolution layer, I'm including two dense layers. The first has 64 neurons in it. Given the small size of our input images, I think 64 neurons may be sufficient to capture distinct features within the image. The layer will have l2 regularization on it to hopefully prevent overfitting the training set. There will be a second Dense layer with 32 neurons after the first. More layers stacked on top of one another allows the model to capture more complex nonlinear relationships between the neurons. Once again, this layer will have l2 regularization on it to prevent overfitting. To end, I have a Dense layer with 1 neuron, using the sigmoid activation function to assign the proper labels to the output. \n",
    "\n",
    "I'm going to train the model with 3 epochs and a batch size of 16. In some previous tests I've conducted using Keras, this combination seems to work well for binary classification training. "
   ]
  },
  {
   "cell_type": "code",
   "execution_count": null,
   "id": "3a548b6d-d805-465d-8fca-026cfdb6e16a",
   "metadata": {},
   "outputs": [],
   "source": [
    "model = Sequential([\n",
    "\tConv2D(96, (3,3), activation = \"relu\", input_shape = (96,96,3)),\n",
    "\tFlatten(),\n",
    "\tkeras.layers.Dense(64, activation='relu', kernel_regularizer=l2(0.001)), \n",
    "\tkeras.layers.Dense(32, activation='relu', kernel_regularizer=l2(0.001)),\n",
    "\tkeras.layers.Dense(1, activation='sigmoid') #Final binary output\n",
    "\n",
    "])\n",
    "\n",
    "model.compile(optimizer='adam',loss='binary_crossentropy',metrics=['accuracy'])\n",
    "model.fit(X_train,y_train, epochs=3, batch_size=16)"
   ]
  },
  {
   "cell_type": "markdown",
   "id": "adfaf87b-3f94-4932-aa49-a2e6079e8021",
   "metadata": {},
   "source": [
    "#### Results\n",
    "\n",
    "![title](img/results.png)"
   ]
  },
  {
   "cell_type": "markdown",
   "id": "945aeae9-2344-45cd-a3b0-b60a91e88ad9",
   "metadata": {},
   "source": [
    "Given that we have access to some 220000+ images in our training set, I wanted to conduct some experiments to see how well results on a smaller subset could generalize to the test set. As you can see above, the results are mediocre. The first model used with submission.csv was trained on only 10,000 images, in about 15 minutes. Scoring around 60% is admirable given how brief the training was and how small the sample size was; however, we can do much better.\n",
    "\n",
    "The second model, used for submission2.csv, was trained on 50,000 images in 1.5 hours. There was an 8% increase in score, but at the cost of using 5x as much data. This still falls short of where I'd like performance to be. \n",
    "\n",
    "Given a bit more time, there are a number of ways in which performance could continue to be improved. For instance, the model was still trained on only a subset of the larger body of training data available. Using the current architecture and 6-8 hours of training time, the model could be expected to perform much better than it does at the moment. Additionally, there are a number of ways in which hyperparameters and the model architecture in use could be tuned to further boost performance. I never used a learning scheduler for the model, and I could see that there was a point when model accuracy began to decrease as training continued. Decreasing the learning rate would allow the model to better locate the global minimum. The batch size and epoch number are two hyperparameters that could further be tuned to improve the model; however, adding additional epochs and decreasing the batch size severely increasing the training time needed. \n",
    "\n",
    "What's disappointing about this experiment is that we have no access to the proper labels for the test set. This means that no confusion matrix or plots can be made to compare performance with expectations. All we have access to is the scores seen above. "
   ]
  },
  {
   "cell_type": "markdown",
   "id": "66a49973-4853-4690-be0a-b237ce2a7be3",
   "metadata": {},
   "source": [
    "#### Conclusion\n",
    "\n",
    "I'm glad that I was able to train a model that achieved around 69% accuracy. That does leave substantial room for improvement, however. As noted above, there are a multitude of ways in which the model could be further tuned and refined to better perform on this binary classification task.\n",
    "\n",
    "I found this to be an illuminating assignment. Even most humans can not expect to accurately identify cancer from an image 70% of the time, so reaching that level with a model that still has so much room for improvement is excellent. This was also my first time using machine learning in a computer vision context - all of my previous work has been in natural language processing. I'm encouraged by the promise artificial intelligence has in healthcare applications like the sort we see here, and I'm interested to continue refining this model and taking on similar projects in the future. "
   ]
  },
  {
   "cell_type": "code",
   "execution_count": null,
   "id": "4e37e151-a305-4040-a6f3-863ac2df1527",
   "metadata": {},
   "outputs": [],
   "source": []
  }
 ],
 "metadata": {
  "kernelspec": {
   "display_name": "Python 3 (ipykernel)",
   "language": "python",
   "name": "python3"
  },
  "language_info": {
   "codemirror_mode": {
    "name": "ipython",
    "version": 3
   },
   "file_extension": ".py",
   "mimetype": "text/x-python",
   "name": "python",
   "nbconvert_exporter": "python",
   "pygments_lexer": "ipython3",
   "version": "3.12.2"
  }
 },
 "nbformat": 4,
 "nbformat_minor": 5
}
